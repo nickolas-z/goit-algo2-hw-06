{
 "cells": [
  {
   "cell_type": "markdown",
   "id": "57f70e22",
   "metadata": {},
   "source": [
    "# Task 2. Performance Comparison of `HyperLogLog` with Exact Unique Element Counting"
   ]
  },
  {
   "cell_type": "markdown",
   "id": "5a57403a",
   "metadata": {},
   "source": [
    "Create a script to compare exact unique element counting with counting using `HyperLogLog`."
   ]
  },
  {
   "cell_type": "code",
   "execution_count": 1,
   "id": "imports",
   "metadata": {},
   "outputs": [],
   "source": [
    "\"\"\"Module for comparing exact unique counting vs. HyperLogLog on IP logs.\n",
    "\n",
    "This notebook provides:\n",
    "- Loading IPs from a JSONL access log\n",
    "- Exact unique counting with a set\n",
    "- Approximate unique counting with HyperLogLog\n",
    "- Precision and memory analysis\n",
    "\n",
    "Follows Google Python Style Guide: https://google.github.io/styleguide/pyguide.html\n",
    "\"\"\"\n",
    "\n",
    "# Standard library imports\n",
    "from __future__ import annotations\n",
    "\n",
    "import json\n",
    "import math\n",
    "import random\n",
    "import re\n",
    "import sys\n",
    "import time\n",
    "from concurrent.futures import ProcessPoolExecutor, ThreadPoolExecutor\n",
    "from dataclasses import dataclass\n",
    "from hashlib import blake2b\n",
    "from itertools import islice, repeat\n",
    "from pathlib import Path\n",
    "from typing import Any, Dict, Iterable, Iterator, List, Sequence, Tuple\n",
    "\n",
    "import multiprocessing as mp\n",
    "\n",
    "LOG_FILE_PATH = Path(\"../data/lms-stage-access.log\")\n",
    "IP_PATTERN = re.compile(\n",
    "    r\"^(?:(?:25[0-5]|2[0-4]\\d|[01]?\\d\\d?)\\.){3}(?:25[0-5]|2[0-4]\\d|[01]?\\d\\d?)$\"\n",
    ")\n",
    "DEFAULT_PRECISION = 14\n",
    "PRECISION_VALUES = (8, 10, 12, 14, 16)\n",
    "DEFAULT_STREAM_BATCH = 10_000\n",
    "DEFAULT_CHUNK_SIZE = 50_000"
   ]
  },
  {
   "cell_type": "code",
   "execution_count": null,
   "id": "0f257255",
   "metadata": {},
   "outputs": [],
   "source": [
    "class HyperLogLog:\n",
    "    def __init__(self, p=5):\n",
    "        self.p = p\n",
    "        self.m = 1 << p\n",
    "        self.registers = [0] * self.m\n",
    "        self.alpha = self._get_alpha()\n",
    "        self.small_range_correction = 5 * self.m / 2  # Поріг для малих значень\n",
    "\n",
    "    def _get_alpha(self):\n",
    "        if self.p <= 16:\n",
    "            return 0.673\n",
    "        elif self.p == 32:\n",
    "            return 0.697\n",
    "        else:\n",
    "            return 0.7213 / (1 + 1.079 / self.m)\n",
    "\n",
    "    def add(self, item):\n",
    "        x = mmh3.hash(str(item), signed=False)\n",
    "        j = x & (self.m - 1)\n",
    "        w = x >> self.p\n",
    "        self.registers[j] = max(self.registers[j], self._rho(w))\n",
    "\n",
    "    def _rho(self, w):\n",
    "        return len(bin(w)) - 2 if w > 0 else 32\n",
    "\n",
    "    def count(self):\n",
    "        Z = sum(2.0**-r for r in self.registers)\n",
    "        E = self.alpha * self.m * self.m / Z\n",
    "\n",
    "        if E <= self.small_range_correction:\n",
    "            V = self.registers.count(0)\n",
    "            if V > 0:\n",
    "                return self.m * math.log(self.m / V)\n",
    "\n",
    "        return E"
   ]
  },
  {
   "cell_type": "markdown",
   "id": "1441afbc",
   "metadata": {},
   "source": [
    "## Results"
   ]
  },
  {
   "cell_type": "markdown",
   "id": "712c0eaa",
   "metadata": {},
   "source": [
    "### Expected Output:\n",
    "\n",
    "```python\n",
    "Результати порівняння:\n",
    "                       Точний підрахунок    HyperLogLog             \n",
    "____________________________________________________________\n",
    "Унікальні елементи        100000.0            99652.0      \n",
    "Час виконання (сек.)        0.45                0.1        \n",
    "```"
   ]
  },
  {
   "cell_type": "code",
   "execution_count": null,
   "id": "2afc015e",
   "metadata": {},
   "outputs": [],
   "source": []
  }
 ],
 "metadata": {
  "kernelspec": {
   "display_name": "goit-algo2-hw-06-py3.12",
   "language": "python",
   "name": "python3"
  },
  "language_info": {
   "codemirror_mode": {
    "name": "ipython",
    "version": 3
   },
   "file_extension": ".py",
   "mimetype": "text/x-python",
   "name": "python",
   "nbconvert_exporter": "python",
   "pygments_lexer": "ipython3",
   "version": "3.12.2"
  }
 },
 "nbformat": 4,
 "nbformat_minor": 5
}
